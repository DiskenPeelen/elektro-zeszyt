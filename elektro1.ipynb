{
 "cells": [
  {
   "cell_type": "markdown",
   "metadata": {},
   "source": [
    "# Podstawy elektrotechniki i elektroniki\n",
    "### Część I\n",
    "\n",
    "Rysunki schematów zostały wygenerowane na [falstad.com](https://www.falstad.com/circuit/circuitjs.html)\n"
   ]
  },
  {
   "cell_type": "code",
   "execution_count": 1,
   "metadata": {},
   "outputs": [],
   "source": [
    "# Przygotowanie elementów do obliczeń\n",
    "from math import pi, sin, cos\n",
    "from matplotlib import pyplot as plt\n",
    "from random import randint as rand\n",
    "to_rads = lambda degs: (2*pi*degs)/360\n",
    "to_degs = lambda rads: (360*degs)/(2*pi)"
   ]
  },
  {
   "cell_type": "markdown",
   "metadata": {},
   "source": [
    "## Główne wielkości elektryczne\n",
    "Wielkości fizyczne można podzielić na 2 grupy:\n",
    "- `wektorowe`\n",
    "- `skalarne`\n",
    "\n",
    "Wielkości wektorowej można przypisać wartość i jednostkę ale dodatkowo posiada jeszcze zwrot i kierunek. Podstawową jednostką wielkości elektryczniej w układzie SI jest `[A] Amper`. `Amper` jest jednostką natężenia prądu elektrycznego. Z jednostek podstawowych i uzupełniających tworzymy pozostałe jednostki `pochodne`. W celu uproszczenia zapisu wartości wielkości fizycznych stosuje się przedrostki układu SI.\n",
    "\n",
    "|Przedrostek | Ozn. | Mnożnik |\n",
    "|---|---|---|\n",
    "|giga   | G | $10^9$  |\n",
    "|mega   | M | $10^6$  |\n",
    "|kilo   | k | $10^6$  |\n",
    "|mili   | m | $10^{-3}$ |\n",
    "|mikro  | $\\mu$ | $10^{-6}$ |\n",
    "|nano   | n | $10^{-9}$ |\n",
    "|piko   | p | $10^{-12}$|\n",
    "\n",
    "Główne wielkości elektryczne oraz ich jednostki\n",
    "\n",
    "|Wielkość | Ozn. | Ozn. jedn. | Jednostka | Wymiar jednostki |\n",
    "| :- | :---: | ---: | --- | --- |\n",
    "| `Natężęnie`  | I | $[A]$ | `Amper` | $1A = \\frac{1C}{1s} = \\frac{1W}{1V}$|\n",
    "| `Napięcie`   | U | $[V]$ | `Volt` | $1V = \\frac{1W}{1A} = \\frac{1J}{1C}$ |\n",
    "| `Moc`        | P | $[W]$ | `Wat` | $1W = \\frac{1J}{1s}$ |\n",
    "| `Rezystancja`| R | $[\\Omega]$ | `Ohm` | $1\\Omega = \\frac{1V}{1A}$ |\n",
    "| `Ładunek`    | Q | $[C]$ | `Kolumb` | $1C = 1A \\cdot 1s = 1F \\cdot 1V$ |\n",
    "| `Pojemność`  | C | $[F]$ | `Farad` | $1F = \\frac{1C}{1V} = \\frac{W\\cdot s}{V^2}$ |"
   ]
  },
  {
   "cell_type": "markdown",
   "metadata": {},
   "source": [
    "#### Działania matematyczne na przedrostkach\n",
    "Mnożenie\n",
    "$$10^8 \\cdot 10^2 = 10^{10}$$\n",
    "Dzielenie\n",
    "$$\\frac{10^2}{10^{-8}} = 10^{2-(-8)} = 10^{10}$$\n",
    "Dodawanie\n",
    "$$10^8 + 10^{-2} \\approx 10^8$$"
   ]
  },
  {
   "cell_type": "markdown",
   "metadata": {},
   "source": [
    "## Wiadomości podstawowe o polu elektrycznym\n",
    "Pole elektryczne występuje między innymi:\n",
    "- Wokół ładunków elektrycznych\n",
    "- Wokół naładowanych przedmiotów\n",
    "- Jako składowa pola elektromagnetycznego\n",
    "Przedmioty można naelektryzować np. poprzez pocieranie lub zjawisko indukcji.\n",
    "\n",
    "Pole elektryczne można przedstawić graficznie przy pomocy linii sił pola elektromagnetycznego. Należy pamiętać, że linii jest nieskończenie wiele a ich kierunek jest zawsze od ładunku dodatniego do ładunku ujemnego. Na rysunkach przedstawiono wybrane linie."
   ]
  },
  {
   "cell_type": "markdown",
   "metadata": {},
   "source": [
    "#### Rys 1a\n",
    "Linie pola elektrycznego wokół ładunku punktowego dodatniego\n",
    "<img src=\"img/img_1a.png\" alt=\"Rys_1a\" width=\"140\"/>\n",
    "#### Rys 1b\n",
    "Linie pola elektrycznego wokół ładunku punktowego ujemnego\n",
    "<img src=\"img/img_1b.png\" alt=\"Rys_1b\" width=\"140\"/>"
   ]
  },
  {
   "cell_type": "markdown",
   "metadata": {},
   "source": [
    "#### Rys 2a\n",
    "Linie pola elektrycznego wokół ładunków punktowych różnoimiennych\n",
    "<img src=\"img/img_2a.png\" alt=\"Rys_2a\" width=\"280\"/>\n",
    "#### Rys 2b\n",
    "Linie pola elektrycznego wokół ładunków punktowych jednoimiennych\n",
    "<img src=\"img/img_2b.png\" alt=\"Rys_2b\" width=\"280\"/>"
   ]
  },
  {
   "cell_type": "markdown",
   "metadata": {},
   "source": [
    "#### Rys 3a\n",
    "Linie pola elektrycznego pomiędzy okładami kondensatora płaskiego\n",
    "<img src=\"img/img_3a.png\" alt=\"Rys_3a\" width=\"140\"/>"
   ]
  },
  {
   "cell_type": "markdown",
   "metadata": {},
   "source": [
    "## Natężenie pola elektrycznego\n",
    "Natężenie pola jest jedną z głównych wielkości charakteryzujących `pole elektryczne`. Jest wielkością wektorową. Wartość natężenia zależy od odległości i wartości ładunku. Jednostką natężenia jest `wolt na metr` $[\\frac{V}{m}]$.\n",
    "\n",
    "Natężenie w punkcie $A$ można obliczyć za pomocą wzoru\n",
    "$$ E_A = \\frac{Q}{4 \\pi \\varepsilon r^2} $$\n",
    "- $E_A$ - Wartość natężęnia w punkcie $A$\n",
    "- $Q$ - Wartość ładunku elektrycznego, który wytwarza pole\n",
    "- $\\varepsilon$ - Przenikalność elektryczna środowiska bezwzględna\n",
    "- $r$ - Odległość od ładunku do punktu $A$"
   ]
  },
  {
   "cell_type": "markdown",
   "metadata": {},
   "source": [
    "#### Przenikalność elektryczna środowiska\n",
    "Właściwość elektryczna materiału, przez który przenika pole. Rozróżnia się przenikalność bezwzględną $\\varepsilon$, której jednostką jest `farad na metr` $[\\frac{F}{m}]$ oraz przenikalność względną (względem przenikalności próżni).\n",
    "\n",
    "Dla próżni przyjmuje się przenikalność bezwzględną\n",
    "$\\varepsilon_0 = 8.85 \\cdot 10^{-12} [\\frac{F}{m}]$.\n",
    "\n",
    "Znając przenikalność względną danego materiału oraz przenikalność próżni można obliczyć przenikalność bezwzględną\n",
    "$\\varepsilon = \\varepsilon _r \\cdot \\varepsilon _0$\n",
    "\n",
    "Przenikalności względne wybranych materiałów\n",
    "\n",
    "| Materiał | Wartość |\n",
    "| --- | --- |\n",
    "| Powietrze        | $\\varepsilon _r \\approx 1.0006$ |\n",
    "| Porcelana        | $\\varepsilon _r \\approx 5 - 6$ |\n",
    "| Woda destylowana | $\\varepsilon _r \\approx 80$ |\n",
    "| Guma             | $\\varepsilon _r \\approx 2.5 - 3$ |\n",
    "| Szkło            | $\\varepsilon _r \\approx 5 - 12$ |\n",
    "| Mika             | $\\varepsilon _r \\approx 5 -6$ |"
   ]
  },
  {
   "cell_type": "code",
   "execution_count": 2,
   "metadata": {},
   "outputs": [
    {
     "name": "stdout",
     "output_type": "stream",
     "text": [
      "26.603 kF/m\n"
     ]
    }
   ],
   "source": [
    "# Obliczanie natężenia pola elektrycznego w punkcie A\n",
    "\n",
    "# Dane wejściowe\n",
    "Q = 2e-3 # Ładunek [C]\n",
    "EpR = 4 # Przenikalność względna\n",
    "R = 13 # Odległość [m]\n",
    "\n",
    "# Stała przenikalność próżni [F/m]\n",
    "Ep0 = 8.85e-12\n",
    "\n",
    "# Obliczenia\n",
    "Ep = EpR * Ep0\n",
    "EA = Q/(4*pi*Ep*pow(R, 2))\n",
    "\n",
    "# Wynik\n",
    "print(round(EA/1e3, 3), 'kF/m')"
   ]
  },
  {
   "cell_type": "markdown",
   "metadata": {},
   "source": [
    "## Potencjał i napięcie\n",
    "`Potencjał` $V$ i `napięcie` $U$ są wielkościami skalarnymi, a ich jednostka to `Volt` $[V]$. Powierzchnie w polu elektrycznym o tym samym potencjale to powierzchnie `ekwipotencjalne`. `Potencjał` dotyczy jednego punktu a `napięcie` jest różnicą potencjału pomiędzy punktami."
   ]
  },
  {
   "cell_type": "markdown",
   "metadata": {},
   "source": [
    "#### Rys 4a [Falstad](https://www.falstad.com/circuit/circuitjs.html?cct=$+1+0.000005+10.20027730826997+50+5+43%0Av+448+288+448+144+0+0+40+5+0+0+0.5%0Ar+336+144+336+288+0+100%0Aw+448+288+336+288+0%0Aw+336+144+448+144+0%0Ap+272+176+272+256+1+0%0Aw+272+176+336+144+0%0Aw+272+256+336+288+0%0Ap+192+256+192+176+1+0%0Aw+336+144+192+176+0%0Aw+336+288+192+256+0%0A)\n",
    "Schemat z 1 źródłem i 1 odbiornikiem\n",
    "<img src=\"img/img_4a.png\" alt=\"Rys_4a\"/>"
   ]
  },
  {
   "cell_type": "markdown",
   "metadata": {},
   "source": [
    "$$U_{AB} = V_A - V_B = 5V - 0V = 5V$$\n",
    "$$U_{BA} = V_B - V_A = 0V -5V = -5V$$\n",
    "\n",
    "Napięcie $AB$ jest zawsze odwrotne do napięcia $BA$ "
   ]
  },
  {
   "cell_type": "markdown",
   "metadata": {},
   "source": [
    "## Pojemność elektryczna i kondensator\n",
    "\n",
    "`Kondensator` to element, który składa się z conajmniej dwóch okładzin z przewodnika, do których przymocowane są elektrody a pomiędzy okładami znajduje się `dielektryk` (izolator).\n",
    "\n",
    "Kondensatory można podzielić ze względu na rodzaj dielektryka:\n",
    "- `ceramiczne`\n",
    "- `elektrolityczne` (mają zaznaczoną biegunowość, którą należy uwzględnić przy podłączeniu.)\n",
    "- `mikowe`\n",
    "- `ferro-ceramiczne`\n",
    "- `poliestrowe`\n",
    "- `polistylenowe`\n",
    "- `polipropylenowe`\n",
    "\n",
    "Podstawowe parametry kondensatora:\n",
    "- Pojemność znamionowa $[F]$\n",
    "- Napięcie maksymalne $[V]$\n",
    "- Tolerancja $[\\%]$\n",
    "\n",
    "Kondensator może pracować w stanie `ładowania` lub `rozładowania`.W układzie DC po całkowitym naładowaniu kondensatora przestaje płynąć przez niego prąd. Natomiast w układzie AC kondensator przewodzi cały czas i ma określony `opór bierny` (`reaktancja pojemnościowa`).\n",
    "\n",
    "Pojemność kondensator można obliczyć ze wzoru:\n",
    "$$ C = \\frac{\\varepsilon \\cdot S}{d} $$\n",
    "- $C$ - Pojemność kondensatora $[F]$\n",
    "- $\\varepsilon$ - Przenikalność bezwzględna dielektryka $[\\frac{F}{m}]$\n",
    "- $S$ - Powierzchnia jednej okładki $[m^2]$\n",
    "- $d$ - Odległość pomiędzy okładami $[m]$"
   ]
  },
  {
   "cell_type": "markdown",
   "metadata": {},
   "source": [
    "#### Rys 5a\n",
    "Ogólny symbol kondensatora\n",
    "<img src=\"img/img_5a.png\" alt=\"Rys_5a\" width=\"140\"/>\n",
    "\n",
    "#### Rys 5b\n",
    "Symbol `trymeru` (kondensatora regulowanego)\n",
    "<img src=\"img/img_5b.png\" alt=\"Rys_5b\" width=\"140\"/>\n",
    "\n",
    "#### Rys 5c\n",
    "Symbol kondensatora `elektrolitycznego`\n",
    "<img src=\"img/img_5c.png\" alt=\"Rys_5c\" width=\"140\"/>"
   ]
  },
  {
   "cell_type": "markdown",
   "metadata": {},
   "source": [
    "## Kondensatory w połączeniu równoległym\n",
    "Przy połączeniu równoległym na każdym elemencie jest takie samo napięcie. Napięcie na odbiornikach jest nazywane `spadkami napięcia`. Napięcie źródła to `SEM` (`siła elektromotoryczna`, zapisywana jako `sem` w układach AC).\n",
    "\n",
    "Pojemność zastępcza oznacza pojemność pojedynczego kondensatora, jakim można zastąpić kilka innych, tak aby nie nastąpiły zmiany w obwodzie (napięcia i prądy na innych elementach). Obliczanie pojemności zastępczej dla $n$ kondensatorów\n",
    "\n",
    "$$ C_{zast} = C_1 + C_2 + C_3 + ... + C_n $$"
   ]
  },
  {
   "cell_type": "markdown",
   "metadata": {},
   "source": [
    "#### Rys 6a [Falstad](https://www.falstad.com/circuit/circuitjs.html?cct=$+1+0.000005+382.76258214399064+42+5+43%0Av+448+288+448+144+0+0+40+5+0+0+0.5%0Aw+304+288+368+288+0%0Aw+368+144+448+144+0%0Aw+448+288+368+288+0%0Ac+368+144+368+288+0+0.00001+0%0Ac+304+288+304+144+0+0.00001+0%0Aw+368+144+304+144+0%0A)\n",
    "Połączenie równoległe dwóch kondensatorów\n",
    "\n",
    "> Falstad nie obsługuje kondensatorów podłączonych równolegle do źródła.\n",
    "\n",
    "<img src=\"img/img_6a.png\" alt=\"Rys_6a\" width=\"400\"/>"
   ]
  },
  {
   "cell_type": "code",
   "execution_count": 3,
   "metadata": {},
   "outputs": [
    {
     "name": "stdout",
     "output_type": "stream",
     "text": [
      "500.0 mF\n"
     ]
    }
   ],
   "source": [
    "# Obliczanie pojemności zastępczej przy połączeniu równoległym\n",
    "\n",
    "# Dane wejściowe\n",
    "capacs = [20e-3, 10e-3, 470e-3] # Lista kondensatorów [F]\n",
    "\n",
    "# Obliczenia\n",
    "C_zast = sum(capacs)\n",
    "\n",
    "# Wynik\n",
    "print(round(C_zast*1e3, 3), 'mF')"
   ]
  },
  {
   "cell_type": "markdown",
   "metadata": {},
   "source": [
    "## Połączenie szeregowe kondensatorów\n",
    "\n",
    "Elementy elektroniczne są połączone szeregowo, gdy przez wszystkie płynie ten sam prąd.\n",
    "\n",
    "> Spadki napięcia strzałkuje się przeciwnie do płynącego prądu. W przypadku obwodów DC strzałka skierowana jest w stronę zacisku dodatniego. Prąd płynący zaznacza się strzałką na przewodzie.\n",
    "\n",
    "Pojemność zastępcza przy połączeniu szeregowym kondensatorów.\n",
    "Odwrotność pojemności zastępczej jest równa sumie odwrotności pojemności składowych kondensatorów\n",
    "$$ C_{zast} = \\frac{1}{\\frac{1}{C_1} + \\frac{1}{C_2} + \\frac{1}{C_3} + ... + \\frac{1}{C_n}} $$\n",
    "\n",
    "Chcąc obliczyć pojemność zastępczą dla dwóch kondensatorów można skorzystać z innego wzoru\n",
    "\n",
    "$$ C_{zast} = \\frac{C_1 \\cdot C_2}{C_1 + C_2} $$"
   ]
  },
  {
   "cell_type": "code",
   "execution_count": 4,
   "metadata": {},
   "outputs": [
    {
     "ename": "NameError",
     "evalue": "name 'c_zast' is not defined",
     "output_type": "error",
     "traceback": [
      "\u001b[0;31m---------------------------------------------------------------------------\u001b[0m",
      "\u001b[0;31mNameError\u001b[0m                                 Traceback (most recent call last)",
      "\u001b[0;32m<ipython-input-4-8d0ad4650620>\u001b[0m in \u001b[0;36m<module>\u001b[0;34m()\u001b[0m\n\u001b[1;32m      8\u001b[0m \u001b[0;34m\u001b[0m\u001b[0m\n\u001b[1;32m      9\u001b[0m \u001b[0;31m# Wynik\u001b[0m\u001b[0;34m\u001b[0m\u001b[0;34m\u001b[0m\u001b[0m\n\u001b[0;32m---> 10\u001b[0;31m \u001b[0mprint\u001b[0m\u001b[0;34m(\u001b[0m\u001b[0mround\u001b[0m\u001b[0;34m(\u001b[0m\u001b[0mc_zast\u001b[0m\u001b[0;34m*\u001b[0m\u001b[0;36m1e6\u001b[0m\u001b[0;34m,\u001b[0m \u001b[0;36m5\u001b[0m\u001b[0;34m)\u001b[0m\u001b[0;34m,\u001b[0m \u001b[0;34m'uF'\u001b[0m\u001b[0;34m)\u001b[0m\u001b[0;34m\u001b[0m\u001b[0m\n\u001b[0m",
      "\u001b[0;31mNameError\u001b[0m: name 'c_zast' is not defined"
     ]
    }
   ],
   "source": [
    "# Obliczanie pojemności zastępczej przy połączeniu szeregowym (wzór 1)\n",
    "\n",
    "# Dane wejściowe\n",
    "capacs = [20e-6, 10e-6, 470e-6] # Lista kondensatorów [F]\n",
    "\n",
    "# Obliczenia\n",
    "capacs = 1/sum([1/cap for cap in capacs])\n",
    "\n",
    "# Wynik\n",
    "print(round(c_zast*1e6, 5), 'uF')"
   ]
  },
  {
   "cell_type": "code",
   "execution_count": null,
   "metadata": {},
   "outputs": [],
   "source": [
    "# Obliczanie pojemności zastępczej przy połączeniu szeregowym (wzór dla 2ch kondensatorów)\n",
    "\n",
    "# Dane wejściowe\n",
    "cap_1 = 20e-6 # Kondensator 1 [F]\n",
    "cap_2 = 10e-3 # Kondensator 2 [F]\n",
    "\n",
    "# Obliczenia\n",
    "c_zast = (cap_1 * cap_2) / (cap_1 + cap_2)\n",
    "\n",
    "# Wynik\n",
    "print(round(c_zast*1e6, 5), 'uF')"
   ]
  },
  {
   "cell_type": "markdown",
   "metadata": {},
   "source": [
    "## Części składowe obwodów elektrycznych\n",
    "\n",
    "Obwody elektryczne mogą być `DC` (prądu stałego) lub `AC` (prądu zmiennego). Obwody można również podzielić na `nierozgałęzione` (w obwodzie płynie jeden prąd) oraz `rozgałęzione` (więcej prądów).\n",
    "\n",
    "Na schemacie elektrycznym wyróżnia się następujące elementy:\n",
    "- `gałąź` - część obwodu przez którą płynie jeden prąd\n",
    "- `węzły` - połaczenie, najczęściej stałe, kilku gałęzi. Zaznaczany kropką.\n",
    "- `oczka` - część obwodu stanowiąca zamknięty, wydzielony obwód. W obwodzie rozgałęzionym rozróżnia się oczka wewnętrzne i zewnętrzne."
   ]
  },
  {
   "cell_type": "markdown",
   "metadata": {},
   "source": [
    "#### Rys 7a [Falstad](https://www.falstad.com/circuit/circuitjs.html?cct=$+1+0.000005+382.76258214399064+42+5+43%0Av+448+288+448+144+0+0+40+5+0+0+0.5%0Aw+368+144+448+144+0%0Aw+448+288+368+288+0%0Ar+368+144+368+288+0+1000%0Av+448+144+448+16+0+0+40+5+0+0+0.5%0Ar+368+144+368+16+0+1000%0Ar+368+144+272+144+0+1000%0Ar+272+144+272+288+0+1000%0Ar+368+288+272+288+0+1000%0Ar+368+16+272+16+0+1000%0Ar+272+144+272+16+0+1000%0Aw+448+16+368+16+0%0A)\n",
    "Schemat na którym można wyróżnić 8 gałęzi, 5 węzłów i 4 oczka wewnętrzne.\n",
    "<img src=\"img/img_7a.png\" alt=\"Rys_7a\" width=\"400\"/>"
   ]
  },
  {
   "cell_type": "markdown",
   "metadata": {},
   "source": [
    "#### Strzałkowanie prądów i napięć\n",
    "W układach DC prąd strzałkuje się w dowolnej części gałęzi tak, aby prąd płynął od węzła z wyższym potencjałem do węzła z niższym (od $+$ do $-$). Przy prądach pisze się $I$ i ewentualnie liczbę, która służy do identyfikacji. Każdy prąd strzałkuje się tylko raz. W przypadku źródeł zasilania napięcie zaznacza się strzałką między zaciskami źródła tak, aby strzałka wskazywała zacisk z wyższym potencjałem ($+$). Spadek napięcia na odbiorniku zaznacza się strzałką obok odbiornika w kierunku przeciwnym do kierunku prądu."
   ]
  },
  {
   "cell_type": "markdown",
   "metadata": {},
   "source": [
    "## Natężenie prądu elektrycznego\n",
    "\n",
    "Prąd elektryczny polega na uporządkowanym przepływie ładunków przez przewodnik. Przewodniki mogą być\n",
    "- `I rodzaju` - metale, stopy, związki węgla, grafit\n",
    "- `II rodzaju` - elektrolity\n",
    " Przy odpowiednio wysokim napięciu prąd może płynąć w próżni.\n",
    " \n",
    " Wartość natężenie prądu elektrycznego to proporcja ładunku do czasu, w którym był mierzony.\n",
    " $$ I = \\frac{Q}{t} $$\n",
    " $$ [A] = [\\frac{C}{s}] $$"
   ]
  },
  {
   "cell_type": "markdown",
   "metadata": {},
   "source": [
    "W przypadku prądu stałego natężęnie prądu nie zmienia się. Prąd jest zmienny jeśli zmienia swoje natężęnie lub kierunek. Prąd zmienny może być `okresowy` (zmieniać się cyklicznie) lub `nieokresowy`. Jeśl prąd zmienia swój kierunek jest to prąd `przemienny`"
   ]
  },
  {
   "cell_type": "code",
   "execution_count": 40,
   "metadata": {},
   "outputs": [
    {
     "data": {
      "image/png": "[encoded data removed]",
      "text/plain": [
       "<Figure size 432x288 with 1 Axes>"
      ]
     },
     "metadata": {
      "needs_background": "light"
     },
     "output_type": "display_data"
    },
    {
     "data": {
      "image/png": "[encoded data removed]",
      "text/plain": [
       "<Figure size 432x288 with 1 Axes>"
      ]
     },
     "metadata": {
      "needs_background": "light"
     },
     "output_type": "display_data"
    },
    {
     "data": {
      "image/png": "[encoded data removed]",
      "text/plain": [
       "<Figure size 432x288 with 1 Axes>"
      ]
     },
     "metadata": {
      "needs_background": "light"
     },
     "output_type": "display_data"
    },
    {
     "data": {
      "image/png": "[encoded data removed]",
      "text/plain": [
       "<Figure size 432x288 with 1 Axes>"
      ]
     },
     "metadata": {
      "needs_background": "light"
     },
     "output_type": "display_data"
    }
   ],
   "source": [
    "# Przykładowe wykresy\n",
    "length = 750\n",
    "xlist = range(length)\n",
    "y_zo = [5*sin(to_rads(x%360))//2+3 for x in xlist] # Prąd zmienny okresowy\n",
    "y_po = [2*sin(to_rads(x%360)) for x in xlist] # Prąd przemienny okresowy\n",
    "y_zn = [rand(2,3) for x in xlist] # Prąd zmienny nieokresowy\n",
    "y_pn = [rand(2,3) for x in xlist] # Prąd przemienny nieokresowy\n",
    "\n",
    "# Wygładzenie\n",
    "factor = length\n",
    "for index in range(length):\n",
    "    prev_zn, zn = [y_zn[i] for i in range(index-factor, index)], y_zn[index]\n",
    "    prev_pn, pn = [y_pn[i] for i in range(index-factor, index)], y_pn[index]\n",
    "    y_zn[index] = (zn+sum(prev_zn))/(1+len(prev_zn))\n",
    "    y_pn[index] = (pn+sum(prev_pn))/(1+len(prev_pn))\n",
    "\n",
    "plt.plot(xlist, y_zo)\n",
    "plt.show()\n",
    "plt.plot(xlist, y_po)\n",
    "plt.show()\n",
    "plt.plot(xlist, y_zn)\n",
    "plt.show()\n",
    "plt.plot(xlist, y_pn)\n",
    "plt.show()"
   ]
  },
  {
   "cell_type": "code",
   "execution_count": null,
   "metadata": {},
   "outputs": [],
   "source": []
  }
 ],
 "metadata": {
  "kernelspec": {
   "display_name": "Python 3",
   "language": "python",
   "name": "python3"
  },
  "language_info": {
   "codemirror_mode": {
    "name": "ipython",
    "version": 3
   },
   "file_extension": ".py",
   "mimetype": "text/x-python",
   "name": "python",
   "nbconvert_exporter": "python",
   "pygments_lexer": "ipython3",
   "version": "3.5.2"
  }
 },
 "nbformat": 4,
 "nbformat_minor": 2
}
