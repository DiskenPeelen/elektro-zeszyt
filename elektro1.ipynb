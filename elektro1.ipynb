{
 "cells": [
  {
   "cell_type": "markdown",
   "metadata": {},
   "source": [
    "# Podstawy elektrotechniki i elektroniki\n",
    "### Część I\n",
    "\n",
    "Rysunki schematów zostały wygenerowane na [falstad.com](https://www.falstad.com/circuit/circuitjs.html)\n"
   ]
  },
  {
   "cell_type": "markdown",
   "metadata": {},
   "source": [
    "## Główne wielkości elektryczne\n",
    "Wielkości fizyczne można podzielić na 2 grupy:\n",
    "- `wektorowe`\n",
    "- `skalarne`\n",
    "\n",
    "Wielkości wektorowej można przypisać wartość i jednostkę ale dodatkowo posiada jeszcze zwrot i kierunek. Podstawową jednostką wielkości elektryczniej w układzie SI jest `[A] Amper`. `Amper` jest jednostką natężenia prądu elektrycznego. Z jednostek podstawowych i uzupełniających tworzymy pozostałe jednostki `pochodne`. W celu uproszczenia zapisu wartości wielkości fizycznych stosuje się przedrostki układu SI.\n",
    "\n",
    "|Przedrostek | Ozn. | Mnożnik |\n",
    "|---|---|---|\n",
    "|giga   | G | $10^9$  |\n",
    "|mega   | M | $10^6$  |\n",
    "|kilo   | k | $10^6$  |\n",
    "|mili   | m | $10^{-3}$ |\n",
    "|mikro  | $\\mu$ | $10^{-6}$ |\n",
    "|nano   | n | $10^{-9}$ |\n",
    "|piko   | p | $10^{-12}$|\n",
    "\n",
    "Główne wielkości elektryczne oraz ich jednostki\n",
    "\n",
    "|Wielkość | Ozn. | Ozn. jedn. | Jednostka | Wymiar jednostki |\n",
    "| :- | :---: | ---: | --- | --- |\n",
    "| `Natężęnie`  | I | $[A]$ | `Amper` | $1A = \\frac{1C}{1s} = \\frac{1W}{1V}$|\n",
    "| `Napięcie`   | U | $[V]$ | `Volt` | $1V = \\frac{1W}{1A} = \\frac{1J}{1C}$ |\n",
    "| `Moc`        | P | $[W]$ | `Wat` | $1W = \\frac{1J}{1s}$ |\n",
    "| `Rezystancja`| R | $[\\Omega]$ | `Ohm` | $1\\Omega = \\frac{1V}{1A}$ |\n",
    "| `Ładunek`    | Q | $[C]$ | `Kolumb` | $1C = 1A \\cdot 1s = 1F \\cdot 1V$ |\n",
    "| `Pojemność`  | C | $[F]$ | `Farad` | $1F = \\frac{1C}{1V} = \\frac{W\\cdot s}{V^2}$ |"
   ]
  },
  {
   "cell_type": "markdown",
   "metadata": {},
   "source": [
    "#### Działania matematyczne na przedrostkach\n",
    "Mnożenie\n",
    "$$10^8 \\cdot 10^2 = 10^{10}$$\n",
    "Dzielenie\n",
    "$$\\frac{10^2}{10^8} = 10^{2-(-8)} = 10^{10}$$\n",
    "Dodawanie\n",
    "$$10^8 + 10^{-2} \\approx 10^8$$"
   ]
  },
  {
   "cell_type": "markdown",
   "metadata": {},
   "source": [
    "## Wiadomośći podstawowe o polu elektrycznym\n",
    "Pole elektryczne występuje między innymi w:\n",
    "- Wokół ładunków elektrycznych\n",
    "- Wokół naładowanych przedmiotów\n",
    "- Jako składowa pola elektromagnetycznego\n",
    "Przedmioty można naelektryzować np. poprzez pocieranie lub zjawisko indukcji.\n",
    "\n",
    "Pole elektryczne można przedstawić graficznie przy pomocy linii sił pola elektromagnetycznego. Należy pamiętać, że linii jest nieskończenie wiele a ich kierunek jest zawsze od ładunku dodatniego do ładunku ujemnego. Na rysunkach przedstawiono wybrane linie."
   ]
  },
  {
   "cell_type": "markdown",
   "metadata": {},
   "source": [
    "#### Rys 1a\n",
    "Linie pola elektrycznego wokół ładunku punktowego dodatniego\n",
    "<img src=\"img/img_1a.png\" alt=\"Rys_1a\" width=\"140\"/>\n",
    "#### Rys 1b\n",
    "Linie pola elektrycznego wokół ładunku punktowego ujemnego\n",
    "<img src=\"img/img_1b.png\" alt=\"Rys_1b\" width=\"140\"/>"
   ]
  },
  {
   "cell_type": "markdown",
   "metadata": {},
   "source": [
    "#### Rys 2a\n",
    "Linie pola elektrycznego wokół ładunków punktowych różnoimiennych\n",
    "<img src=\"img/img_2a.png\" alt=\"Rys_2a\" width=\"280\"/>\n",
    "#### Rys 2b\n",
    "Linie pola elektrycznego wokół ładunków punktowych jednoimiennych\n",
    "<img src=\"img/img_2b.png\" alt=\"Rys_2b\" width=\"280\"/>"
   ]
  },
  {
   "cell_type": "markdown",
   "metadata": {},
   "source": [
    "#### Rys 3a\n",
    "Linie pola elektrycznego pomiędzy okładami kondensatora płaskiego\n",
    "<img src=\"img/img_3a.png\" alt=\"Rys_3a\" width=\"140\"/>"
   ]
  },
  {
   "cell_type": "markdown",
   "metadata": {},
   "source": [
    "## Natężenie pola elektrycznego\n",
    "Natężenie pola jest jedną z głównych wielkości charakteryzujących `pole elektryczne`. Jest wielkością wektorową. Wartość natężenia zależy od odległości i wartości ładunku. Jednostką natężenia jest `wolt na metr` $[\\frac{V}{m}]$.\n",
    "\n",
    "Natężenie w punkcie $A$ można obliczyć za pomocą wzoru\n",
    "$$ E_A = \\frac{Q}{4 \\pi \\varepsilon r^2} $$\n",
    "- $E_A$ - Wartość natężęnia w punkcie $A$\n",
    "- $Q$ - Wartość ładunku elektrycznego, który wytwarza pole\n",
    "- $\\varepsilon$ - Przenikalność elektryczna środowiska bezwzględna\n",
    "- $r$ - Odległość od ładunku do punktu $A$"
   ]
  },
  {
   "cell_type": "markdown",
   "metadata": {},
   "source": [
    "#### Przenikalność elektryczna środowiska\n",
    "Właściwość elektryczna materiału, przez który przenika pole. Rozróżnia się przenikalność bezwzględną $\\varepsilon$, której jednostką jest `farad na metr` $[\\frac{F}{m}]$ oraz przenikalność względną (względem przenikalności próżni).\n",
    "\n",
    "Dla próżni przyjmuje się przenikalność bezwzględną\n",
    "$\\varepsilon_0 = 8.85 \\cdot 10^{-12} [\\frac{F}{m}]$.\n",
    "\n",
    "Znając przenikalność względną danego materiału oraz przenikalność próżni można obliczyć przenikalność bezwzględną\n",
    "$\\varepsilon = \\varepsilon _r \\cdot \\varepsilon _0$\n",
    "\n",
    "Przenikalności względne wybranych materiałów\n",
    "\n",
    "| Materiał | Wartość |\n",
    "| --- | --- |\n",
    "| Powietrze        | $\\varepsilon _r \\approx 1.0006$ |\n",
    "| Porcelana        | $\\varepsilon _r \\approx 5 - 6$ |\n",
    "| Woda destylowana | $\\varepsilon _r \\approx 80$ |\n",
    "| Guma             | $\\varepsilon _r \\approx 2.5 - 3$ |\n",
    "| Szkło            | $\\varepsilon _r \\approx 5 - 12$ |\n",
    "| Mika             | $\\varepsilon _r \\approx 5 -6$ |"
   ]
  },
  {
   "cell_type": "code",
   "execution_count": 8,
   "metadata": {},
   "outputs": [
    {
     "name": "stdout",
     "output_type": "stream",
     "text": [
      "26.603 kF/m\n"
     ]
    }
   ],
   "source": [
    "# Obliczanie natężenia pola elektrycznego w punkcie A\n",
    "\n",
    "# Dane wejściowe\n",
    "Q = 2e-3 # Ładunek [C]\n",
    "EpR = 4 # Przenikalność względna\n",
    "R = 13 # Odległość [m]\n",
    "\n",
    "# Stała przenikalność próżni [F/m]\n",
    "Ep0 = 8.85e-12\n",
    "\n",
    "# Obliczenia\n",
    "from math import pi\n",
    "Ep = EpR * Ep0\n",
    "EA = Q/(4*pi*Ep*pow(R, 2))\n",
    "EA = round(EA/1e3, 3)\n",
    "\n",
    "# Wynik\n",
    "print(EA, 'kF/m')"
   ]
  },
  {
   "cell_type": "markdown",
   "metadata": {},
   "source": [
    "## Potencjał i napięcie\n",
    "`Potencjał` $V$ i `napięcie` $U$ są wielkościami skalarnymi, a ich jednostka to `Volt` $[V]$. Powierzchnie w polu elektrycznym o tym samym potencjale nazywa się `ekwipotencjalne`. `Potencjał` dotyczy jednego punktu a `napięcie` jest różnicą potencjału pomiędzy punktami.\n",
    "\n",
    "#### Rys 4a [Falstad](https://www.falstad.com/circuit/circuitjs.html?cct=$+1+0.000005+10.20027730826997+50+5+43%0Av+448+288+448+144+0+0+40+5+0+0+0.5%0Ar+336+144+336+288+0+100%0Aw+448+288+336+288+0%0Aw+336+144+448+144+0%0Ap+272+176+272+256+1+0%0Aw+272+176+336+144+0%0Aw+272+256+336+288+0%0Ap+192+256+192+176+1+0%0Aw+336+144+192+176+0%0Aw+336+288+192+256+0%0A)\n",
    "Schemat z 1 źródłem i 1 odbiornikiem\n",
    "<img src=\"img/img_4a.png\" alt=\"Rys_4a\"/>\n",
    "$$U_{AB} = V_A - V_B = 5V - 0V = 5V$$\n",
    "$$U_{BA} = V_B - V_A = 0V -5V = -5V$$\n",
    "\n",
    "Napięcie $A \\rightarrow B$ jest zawsze odwrotne do napięcia $B \\rightarrow A$ "
   ]
  },
  {
   "cell_type": "markdown",
   "metadata": {},
   "source": [
    "## Pojemność i kondensator\n",
    "\n",
    "`Kondensator` to element, który składa się z conajmniej dwóch okładzin z przewodnika, do których przymocowane są elektrody a pomiędzy okładami znajduje się `dielektryk` (izolator).\n",
    "\n",
    "Kondensatory można podzielić ze względu na rodzaj dielektryka:\n",
    "- `ceramiczne`\n",
    "- `elektrolityczne` (mają zaznaczoną biegunowość, którą należy uwzględnić przy podłączeniu.)\n",
    "- `mikowe`\n",
    "- `ferro-ceramiczne`\n",
    "- `poliestrowe`\n",
    "- `polistylenowe`\n",
    "- `polipropylenowe`\n",
    "\n",
    "Podstawowe parametry kondensatora:\n",
    "- Pojemność znamionowa $[F]$\n",
    "- Napięcie maksymalne $[V]$\n",
    "- Tolerancja $[\\%]$\n",
    "\n",
    "Kondensator może pracować w stanie `ładowania` lub `rozładowania`.W układzie DC po całkowitym naładowaniu kondensatora przestaje płynąć przez niego prąd. Natomiast w układzie AC kondensator przewodzi cały czas i ma określony `opór bierny` (`reaktancja pojemnościowa`).\n",
    "\n",
    "Pojemność kondensator można obliczyć ze wzoru:\n",
    "$$ C = \\frac{\\varepsilon \\cdot S}{d} $$\n",
    "- $C$ - Pojemność kondensatora $[F]$\n",
    "- $\\varepsilon$ - Przenikalność bezwzględna dielektryka $[\\frac{F}{m}]$\n",
    "- $S$ - Powierzchnia jednej okładki $[m^2]$\n",
    "- $d$ - Odległość pomiędzy okładami $[m]$\n",
    "\n",
    "#### Rys 5a\n",
    "Ogólny symbol kondensatora\n",
    "<img src=\"img/img_5a.png\" alt=\"Rys_5a\" width=\"140\"/>\n",
    "\n",
    "#### Rys 5b\n",
    "Symbol `trymeru` (kondensatora regulowanego)\n",
    "<img src=\"img/img_5b.png\" alt=\"Rys_5b\" width=\"140\"/>\n",
    "\n",
    "#### Rys 5c\n",
    "Symbol kondensatora `elektrolitycznego`\n",
    "<img src=\"img/img_5c.png\" alt=\"Rys_5c\" width=\"140\"/>\n"
   ]
  },
  {
   "cell_type": "markdown",
   "metadata": {},
   "source": [
    "## Kondensatory w połączeniu równoległym\n",
    "Przy połączeniu równoległym na każdym elemencie jest takie samo napięcie. Napięcie na odbiornikach jest nazywane `spadkami napięcia` a napięcie źródła to `SEM` (`siła elektromotoryczna`, zapisywana jako `sem` w układach AC).\n",
    "\n",
    "Obliczanie pojemności zastępczej\n",
    "\n",
    "#### Rys 6a\n",
    "Połączenie równoległe $n$ kondensatorów"
   ]
  },
  {
   "cell_type": "code",
   "execution_count": null,
   "metadata": {},
   "outputs": [],
   "source": []
  }
 ],
 "metadata": {
  "kernelspec": {
   "display_name": "Python 3",
   "language": "python",
   "name": "python3"
  },
  "language_info": {
   "codemirror_mode": {
    "name": "ipython",
    "version": 3
   },
   "file_extension": ".py",
   "mimetype": "text/x-python",
   "name": "python",
   "nbconvert_exporter": "python",
   "pygments_lexer": "ipython3",
   "version": "3.5.2"
  }
 },
 "nbformat": 4,
 "nbformat_minor": 2
}
